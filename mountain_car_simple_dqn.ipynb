{
 "cells": [
  {
   "cell_type": "markdown",
   "metadata": {},
   "source": [
    "## Import libraries"
   ]
  },
  {
   "cell_type": "code",
   "execution_count": null,
   "metadata": {},
   "outputs": [],
   "source": [
    "%matplotlib inline\n",
    "import matplotlib.pyplot as plt\n",
    "import gym\n",
    "import random\n",
    "import numpy as np\n",
    "from keras.models import Sequential\n",
    "from keras.layers import Dense\n",
    "from keras.optimizers import Adam\n",
    "from collections import deque"
   ]
  },
  {
   "cell_type": "markdown",
   "metadata": {},
   "source": [
    "## Set variables"
   ]
  },
  {
   "cell_type": "code",
   "execution_count": null,
   "metadata": {},
   "outputs": [],
   "source": [
    "learning_rate = 0.5 # was 0.001\n",
    "state_size = 2\n",
    "action_size = 3\n",
    "\n",
    "memory_size = 10000\n",
    "batch_size = 64 # was 32\n",
    "\n",
    "gamma = 0.99 # was 0.99\n",
    "alpha = 0.1"
   ]
  },
  {
   "cell_type": "markdown",
   "metadata": {},
   "source": [
    "## Import environment"
   ]
  },
  {
   "cell_type": "code",
   "execution_count": null,
   "metadata": {},
   "outputs": [],
   "source": [
    "#env = gym.make(\"MountainCar-v0\") # capped at 200 moves\n",
    "env = gym.make(\"MountainCar-v0\").env # unlimited moves"
   ]
  },
  {
   "cell_type": "markdown",
   "metadata": {},
   "source": [
    "## Create model"
   ]
  },
  {
   "cell_type": "code",
   "execution_count": null,
   "metadata": {},
   "outputs": [],
   "source": [
    "q_network = Sequential()\n",
    "\n",
    "q_network.add(Dense(256, activation='relu', input_dim=state_size))\n",
    "q_network.add(Dense(256, activation='relu'))\n",
    "q_network.add(Dense(action_size, activation='linear'))\n",
    "\n",
    "optimizer = Adam(lr=learning_rate)\n",
    "q_network.compile(loss='mse', optimizer=optimizer)"
   ]
  },
  {
   "cell_type": "markdown",
   "metadata": {},
   "source": [
    "## Train model"
   ]
  },
  {
   "cell_type": "code",
   "execution_count": null,
   "metadata": {},
   "outputs": [],
   "source": [
    "rewards_list = []\n",
    "epsilon = 0.1\n",
    "epsilon_decay = 0.993\n",
    "\n",
    "memory = deque(maxlen=memory_size)\n",
    "\n",
    "for episode in range(200):\n",
    "    \n",
    "    state = env.reset()\n",
    "    state = np.reshape(state, [1, state_size])\n",
    "    total_reward = 0\n",
    "    done = False\n",
    "    \n",
    "    if (epsilon > 0.01):\n",
    "        epsilon *= epsilon_decay\n",
    "    \n",
    "    while not done:\n",
    "        \n",
    "        env.render()\n",
    "        \n",
    "        # Choose action\n",
    "        if epsilon > np.random.rand():\n",
    "            action = env.action_space.sample()\n",
    "        else:\n",
    "            action = np.argmax(q_network.predict(state)[0])\n",
    "        \n",
    "        # Apply action to environment, get next state/reward, and save to memory container\n",
    "        next_state, reward, done, _ = env.step(action)\n",
    "        next_state = np.reshape(next_state, [1, state_size])\n",
    "        total_reward += reward\n",
    "        \n",
    "        if done:\n",
    "            next_state = np.zeros(state.shape) # end of episode\n",
    "            \n",
    "        memory.append((state, action, reward, next_state))\n",
    "        state = next_state\n",
    "\n",
    "        # Train model\n",
    "        if (len(memory) >= batch_size):\n",
    "            \n",
    "            minibatch = random.sample(list(memory), batch_size)\n",
    "            \n",
    "            x_train = np.zeros((batch_size, state_size))\n",
    "            y_train = np.zeros((batch_size, action_size))\n",
    "            \n",
    "            for i, (mb_state, mb_action, mb_reward, mb_next_state) in enumerate(minibatch):\n",
    "                \n",
    "                x_train[i] = mb_state\n",
    "                y_train[i] = q_network.predict(np.reshape(mb_state, [1, state_size]))\n",
    "                \n",
    "                if (np.array_equal(mb_next_state, np.zeros(state.shape))): # end of episode\n",
    "                    q_target = mb_reward\n",
    "                    \n",
    "                else:\n",
    "                    q_target = mb_reward + (gamma * np.max(q_network.predict(mb_next_state)))\n",
    "\n",
    "                q_predict = y_train[i][mb_action]\n",
    "                y_train[i][mb_action] += alpha * (q_target - q_predict)\n",
    "                            \n",
    "            q_network.fit(x_train, y_train, epochs=1, verbose=0)\n",
    "\n",
    "            \n",
    "    if ((episode+1) % 1 == 0):\n",
    "        print('Episode: {}'.format(episode+1),\n",
    "              'Total reward: {}'.format(total_reward),\n",
    "              'Explore P: {:.4f}'.format(epsilon))\n",
    "                \n",
    "    rewards_list.append((episode, total_reward))\n",
    "    \n",
    "env.render(close=True)"
   ]
  },
  {
   "cell_type": "markdown",
   "metadata": {},
   "source": [
    "## Test model"
   ]
  },
  {
   "cell_type": "code",
   "execution_count": null,
   "metadata": {},
   "outputs": [],
   "source": [
    "for episode in range(5):\n",
    "    \n",
    "    counter = 0\n",
    "    done = False\n",
    "    state = env.reset()\n",
    "\n",
    "    while not done:\n",
    "        env.render()\n",
    "        state = np.reshape(state, [1, state_size])\n",
    "        action = np.argmax(q_network.predict(state)[0])\n",
    "        state, reward, done, _ = env.step(action)\n",
    "        counter += 1\n",
    "\n",
    "    print(episode + 1, counter)\n",
    "                \n",
    "env.render(close=True)"
   ]
  },
  {
   "cell_type": "code",
   "execution_count": null,
   "metadata": {},
   "outputs": [],
   "source": []
  },
  {
   "cell_type": "code",
   "execution_count": null,
   "metadata": {},
   "outputs": [],
   "source": []
  }
 ],
 "metadata": {
  "kernelspec": {
   "display_name": "Python 3",
   "language": "python",
   "name": "python3"
  },
  "language_info": {
   "codemirror_mode": {
    "name": "ipython",
    "version": 3
   },
   "file_extension": ".py",
   "mimetype": "text/x-python",
   "name": "python",
   "nbconvert_exporter": "python",
   "pygments_lexer": "ipython3",
   "version": "3.6.3"
  }
 },
 "nbformat": 4,
 "nbformat_minor": 2
}
