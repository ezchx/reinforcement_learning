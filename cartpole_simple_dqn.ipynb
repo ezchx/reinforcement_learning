{
 "cells": [
  {
   "cell_type": "markdown",
   "metadata": {},
   "source": [
    "## Import libraries"
   ]
  },
  {
   "cell_type": "code",
   "execution_count": 1,
   "metadata": {},
   "outputs": [
    {
     "name": "stderr",
     "output_type": "stream",
     "text": [
      "Using TensorFlow backend.\n"
     ]
    }
   ],
   "source": [
    "%matplotlib inline\n",
    "import matplotlib.pyplot as plt\n",
    "import gym\n",
    "import random\n",
    "import numpy as np\n",
    "from keras.models import Sequential\n",
    "from keras.layers import Dense\n",
    "from keras.optimizers import Adam\n",
    "from collections import deque"
   ]
  },
  {
   "cell_type": "markdown",
   "metadata": {},
   "source": [
    "## Set variables"
   ]
  },
  {
   "cell_type": "code",
   "execution_count": 2,
   "metadata": {},
   "outputs": [],
   "source": [
    "learning_rate = 0.001\n",
    "state_size = 4\n",
    "action_size = 2\n",
    "\n",
    "memory_size = 10000\n",
    "batch_size = 32\n",
    "\n",
    "gamma = 0.99\n",
    "alpha = 0.1"
   ]
  },
  {
   "cell_type": "markdown",
   "metadata": {},
   "source": [
    "## Import environment"
   ]
  },
  {
   "cell_type": "code",
   "execution_count": 3,
   "metadata": {},
   "outputs": [
    {
     "name": "stderr",
     "output_type": "stream",
     "text": [
      "[2018-03-29 21:49:26,541] Making new env: CartPole-v0\n"
     ]
    }
   ],
   "source": [
    "env = gym.make('CartPole-v0')"
   ]
  },
  {
   "cell_type": "markdown",
   "metadata": {},
   "source": [
    "## Create model"
   ]
  },
  {
   "cell_type": "code",
   "execution_count": 26,
   "metadata": {},
   "outputs": [],
   "source": [
    "q_network = Sequential()\n",
    "\n",
    "q_network.add(Dense(16, activation='relu', input_dim=state_size))\n",
    "q_network.add(Dense(16, activation='relu'))\n",
    "q_network.add(Dense(action_size, activation='linear'))\n",
    "\n",
    "optimizer = Adam(lr=learning_rate)\n",
    "q_network.compile(loss='mse', optimizer=optimizer)"
   ]
  },
  {
   "cell_type": "markdown",
   "metadata": {},
   "source": [
    "## Main function"
   ]
  },
  {
   "cell_type": "code",
   "execution_count": 27,
   "metadata": {},
   "outputs": [
    {
     "name": "stdout",
     "output_type": "stream",
     "text": [
      "Episode: 0 Total reward: 49.0 Explore P: 0.9930\n",
      "Episode: 10 Total reward: 19.0 Explore P: 0.9256\n",
      "Episode: 20 Total reward: 9.0 Explore P: 0.8628\n",
      "Episode: 30 Total reward: 25.0 Explore P: 0.8043\n",
      "Episode: 40 Total reward: 18.0 Explore P: 0.7498\n",
      "Episode: 50 Total reward: 45.0 Explore P: 0.6989\n",
      "Episode: 60 Total reward: 21.0 Explore P: 0.6515\n",
      "Episode: 70 Total reward: 37.0 Explore P: 0.6073\n",
      "Episode: 80 Total reward: 47.0 Explore P: 0.5661\n",
      "Episode: 90 Total reward: 142.0 Explore P: 0.5277\n",
      "Episode: 100 Total reward: 103.0 Explore P: 0.4919\n",
      "Episode: 110 Total reward: 159.0 Explore P: 0.4585\n",
      "Episode: 120 Total reward: 200.0 Explore P: 0.4274\n",
      "Episode: 130 Total reward: 200.0 Explore P: 0.3984\n",
      "Episode: 140 Total reward: 200.0 Explore P: 0.3714\n",
      "Episode: 150 Total reward: 200.0 Explore P: 0.3462\n",
      "Episode: 160 Total reward: 200.0 Explore P: 0.3227\n",
      "Episode: 170 Total reward: 200.0 Explore P: 0.3008\n",
      "Episode: 180 Total reward: 200.0 Explore P: 0.2804\n",
      "Episode: 190 Total reward: 200.0 Explore P: 0.2614\n",
      "Episode: 200 Total reward: 10.0 Explore P: 0.2437\n",
      "Episode: 210 Total reward: 200.0 Explore P: 0.2271\n",
      "Episode: 220 Total reward: 200.0 Explore P: 0.2117\n",
      "Episode: 230 Total reward: 200.0 Explore P: 0.1974\n",
      "Episode: 240 Total reward: 200.0 Explore P: 0.1840\n"
     ]
    }
   ],
   "source": [
    "rewards_list = []\n",
    "epsilon = 1.0\n",
    "epsilon_decay = 0.993\n",
    "\n",
    "memory = deque(maxlen=memory_size)\n",
    "\n",
    "for episode in range(250):\n",
    "    \n",
    "    state = env.reset()\n",
    "    state = np.reshape(state, [1, 4])\n",
    "    total_reward = 0\n",
    "    done = False\n",
    "    \n",
    "    if (epsilon > 0.01):\n",
    "        epsilon *= epsilon_decay\n",
    "    \n",
    "    while not done:\n",
    "        \n",
    "        # Choose action\n",
    "        if epsilon > np.random.rand():\n",
    "            action = env.action_space.sample()\n",
    "        else:\n",
    "            action = np.argmax(q_network.predict(state)[0])\n",
    "        \n",
    "        # Apply action to environment, get next state/reward, and save to memory object\n",
    "        next_state, reward, done, _ = env.step(action)\n",
    "        next_state = np.reshape(next_state, [1, 4])\n",
    "        total_reward += reward\n",
    "        \n",
    "        if done:\n",
    "            next_state = np.zeros(state.shape) # end of episode\n",
    "            \n",
    "        memory.append((state, action, reward, next_state))\n",
    "        state = next_state\n",
    "\n",
    "        # Train model\n",
    "        if (len(memory) >= batch_size):\n",
    "            \n",
    "            minibatch = random.sample(list(memory), batch_size)\n",
    "            \n",
    "            x_train = np.zeros((batch_size, 4))\n",
    "            y_train = np.zeros((batch_size, 2))\n",
    "            \n",
    "            for i, (mb_state, mb_action, mb_reward, mb_next_state) in enumerate(minibatch):\n",
    "                \n",
    "                x_train[i] = mb_state\n",
    "                y_train[i] = q_network.predict(np.reshape(mb_state, [1,4]))\n",
    "                \n",
    "                if (np.array_equal(mb_next_state, np.zeros(state.shape))): # end of episode\n",
    "                    q_target = mb_reward\n",
    "                    \n",
    "                else:\n",
    "                    q_target = mb_reward + (gamma * np.max(q_network.predict(mb_next_state)))\n",
    "\n",
    "                q_predict = y_train[i][mb_action]\n",
    "                y_train[i][mb_action] += alpha * (q_target - q_predict)\n",
    "                            \n",
    "            q_network.fit(x_train, y_train, epochs=1, verbose=0)\n",
    "\n",
    "            \n",
    "    if (episode % 10 == 0):\n",
    "        print('Episode: {}'.format(episode),\n",
    "              'Total reward: {}'.format(total_reward),\n",
    "              'Explore P: {:.4f}'.format(epsilon))\n",
    "                \n",
    "    rewards_list.append((episode, total_reward))"
   ]
  },
  {
   "cell_type": "markdown",
   "metadata": {},
   "source": [
    "## Plot training results"
   ]
  },
  {
   "cell_type": "code",
   "execution_count": 28,
   "metadata": {},
   "outputs": [
    {
     "data": {
      "text/plain": [
       "Text(0,0.5,'Total Reward')"
      ]
     },
     "execution_count": 28,
     "metadata": {},
     "output_type": "execute_result"
    },
    {
     "data": {
      "image/png": "[encoded data removed]",
      "text/plain": [
       "<matplotlib.figure.Figure at 0x7fc9a863bf98>"
      ]
     },
     "metadata": {},
     "output_type": "display_data"
    }
   ],
   "source": [
    "eps, rews = np.array(rewards_list).T\n",
    "plt.plot(rews)\n",
    "plt.xlabel('Episodes')\n",
    "plt.ylabel('Total Reward')"
   ]
  },
  {
   "cell_type": "markdown",
   "metadata": {},
   "source": [
    "## Test model"
   ]
  },
  {
   "cell_type": "code",
   "execution_count": 29,
   "metadata": {},
   "outputs": [
    {
     "name": "stdout",
     "output_type": "stream",
     "text": [
      "1 200\n",
      "2 200\n",
      "3 200\n",
      "4 200\n",
      "5 200\n"
     ]
    }
   ],
   "source": [
    "for episode in range(5):\n",
    "    \n",
    "    counter = 0\n",
    "    done = False\n",
    "    state = env.reset()\n",
    "\n",
    "    while not done:\n",
    "        env.render()\n",
    "        state = np.reshape(state, [1, 4])\n",
    "        action = np.argmax(q_network.predict(state)[0])\n",
    "        state, reward, done, _ = env.step(action)\n",
    "        counter += 1\n",
    "\n",
    "    print(episode + 1, counter)\n",
    "                \n",
    "env.render(close=True)"
   ]
  },
  {
   "cell_type": "code",
   "execution_count": null,
   "metadata": {},
   "outputs": [],
   "source": []
  },
  {
   "cell_type": "code",
   "execution_count": null,
   "metadata": {},
   "outputs": [],
   "source": []
  }
 ],
 "metadata": {
  "kernelspec": {
   "display_name": "Python 3",
   "language": "python",
   "name": "python3"
  },
  "language_info": {
   "codemirror_mode": {
    "name": "ipython",
    "version": 3
   },
   "file_extension": ".py",
   "mimetype": "text/x-python",
   "name": "python",
   "nbconvert_exporter": "python",
   "pygments_lexer": "ipython3",
   "version": "3.6.3"
  }
 },
 "nbformat": 4,
 "nbformat_minor": 2
}
