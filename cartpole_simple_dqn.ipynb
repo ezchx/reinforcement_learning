{
 "cells": [
  {
   "cell_type": "markdown",
   "metadata": {},
   "source": [
    "## Import libraries"
   ]
  },
  {
   "cell_type": "code",
   "execution_count": 1,
   "metadata": {},
   "outputs": [
    {
     "name": "stderr",
     "output_type": "stream",
     "text": [
      "Using TensorFlow backend.\n"
     ]
    }
   ],
   "source": [
    "%matplotlib inline\n",
    "import time\n",
    "import matplotlib.pyplot as plt\n",
    "import gym\n",
    "import random\n",
    "import numpy as np\n",
    "from keras.models import Sequential\n",
    "from keras.layers import Dense\n",
    "from keras.optimizers import Adam\n",
    "from collections import deque"
   ]
  },
  {
   "cell_type": "markdown",
   "metadata": {},
   "source": [
    "## Set variables"
   ]
  },
  {
   "cell_type": "code",
   "execution_count": 7,
   "metadata": {},
   "outputs": [],
   "source": [
    "learning_rate = 5e-4\n",
    "state_size = 4\n",
    "action_size = 2\n",
    "\n",
    "memory_size = 10000\n",
    "batch_size = 32\n",
    "\n",
    "gamma = 0.99\n",
    "alpha = 0.1"
   ]
  },
  {
   "cell_type": "markdown",
   "metadata": {},
   "source": [
    "## Import environment"
   ]
  },
  {
   "cell_type": "code",
   "execution_count": 3,
   "metadata": {},
   "outputs": [
    {
     "name": "stderr",
     "output_type": "stream",
     "text": [
      "[2018-04-19 11:30:02,149] Making new env: CartPole-v0\n"
     ]
    }
   ],
   "source": [
    "env = gym.make('CartPole-v0')"
   ]
  },
  {
   "cell_type": "markdown",
   "metadata": {},
   "source": [
    "## Setup model"
   ]
  },
  {
   "cell_type": "code",
   "execution_count": 11,
   "metadata": {},
   "outputs": [],
   "source": [
    "q_network = Sequential()\n",
    "\n",
    "q_network.add(Dense(64, activation='tanh', input_dim=state_size))\n",
    "q_network.add(Dense(action_size, activation='linear'))\n",
    "\n",
    "optimizer = Adam(lr=learning_rate)\n",
    "q_network.compile(loss='mse', optimizer=optimizer)"
   ]
  },
  {
   "cell_type": "markdown",
   "metadata": {},
   "source": [
    "## Train model"
   ]
  },
  {
   "cell_type": "code",
   "execution_count": 12,
   "metadata": {
    "scrolled": true
   },
   "outputs": [
    {
     "name": "stdout",
     "output_type": "stream",
     "text": [
      "Episode: 1 Total reward: 34.0 Explore P: 0.9860 Solved: 0\n",
      "Episode: 2 Total reward: 27.0 Explore P: 0.9722 Solved: 0\n",
      "Episode: 3 Total reward: 41.0 Explore P: 0.9586 Solved: 0\n",
      "Episode: 4 Total reward: 41.0 Explore P: 0.9452 Solved: 0\n",
      "Episode: 5 Total reward: 55.0 Explore P: 0.9319 Solved: 0\n",
      "Episode: 6 Total reward: 36.0 Explore P: 0.9189 Solved: 0\n",
      "Episode: 7 Total reward: 14.0 Explore P: 0.9060 Solved: 0\n",
      "Episode: 8 Total reward: 18.0 Explore P: 0.8933 Solved: 0\n",
      "Episode: 9 Total reward: 37.0 Explore P: 0.8808 Solved: 0\n",
      "Episode: 10 Total reward: 25.0 Explore P: 0.8685 Solved: 0\n",
      "Episode: 11 Total reward: 18.0 Explore P: 0.8563 Solved: 0\n",
      "Episode: 12 Total reward: 28.0 Explore P: 0.8444 Solved: 0\n",
      "Episode: 13 Total reward: 13.0 Explore P: 0.8325 Solved: 0\n",
      "Episode: 14 Total reward: 15.0 Explore P: 0.8209 Solved: 0\n",
      "Episode: 15 Total reward: 18.0 Explore P: 0.8094 Solved: 0\n",
      "Episode: 16 Total reward: 11.0 Explore P: 0.7981 Solved: 0\n",
      "Episode: 17 Total reward: 13.0 Explore P: 0.7869 Solved: 0\n",
      "Episode: 18 Total reward: 13.0 Explore P: 0.7759 Solved: 0\n",
      "Episode: 19 Total reward: 22.0 Explore P: 0.7650 Solved: 0\n",
      "Episode: 20 Total reward: 20.0 Explore P: 0.7543 Solved: 0\n",
      "Episode: 21 Total reward: 27.0 Explore P: 0.7437 Solved: 0\n",
      "Episode: 22 Total reward: 16.0 Explore P: 0.7333 Solved: 0\n",
      "Episode: 23 Total reward: 25.0 Explore P: 0.7231 Solved: 0\n",
      "Episode: 24 Total reward: 9.0 Explore P: 0.7129 Solved: 0\n",
      "Episode: 25 Total reward: 14.0 Explore P: 0.7029 Solved: 0\n",
      "Episode: 26 Total reward: 20.0 Explore P: 0.6931 Solved: 0\n",
      "Episode: 27 Total reward: 15.0 Explore P: 0.6834 Solved: 0\n",
      "Episode: 28 Total reward: 16.0 Explore P: 0.6738 Solved: 0\n",
      "Episode: 29 Total reward: 20.0 Explore P: 0.6644 Solved: 0\n",
      "Episode: 30 Total reward: 34.0 Explore P: 0.6551 Solved: 0\n",
      "Episode: 31 Total reward: 114.0 Explore P: 0.6459 Solved: 0\n",
      "Episode: 32 Total reward: 67.0 Explore P: 0.6369 Solved: 0\n",
      "Episode: 33 Total reward: 13.0 Explore P: 0.6280 Solved: 0\n",
      "Episode: 34 Total reward: 21.0 Explore P: 0.6192 Solved: 0\n",
      "Episode: 35 Total reward: 14.0 Explore P: 0.6105 Solved: 0\n",
      "Episode: 36 Total reward: 27.0 Explore P: 0.6020 Solved: 0\n",
      "Episode: 37 Total reward: 18.0 Explore P: 0.5935 Solved: 0\n",
      "Episode: 38 Total reward: 16.0 Explore P: 0.5852 Solved: 0\n",
      "Episode: 39 Total reward: 13.0 Explore P: 0.5770 Solved: 0\n",
      "Episode: 40 Total reward: 16.0 Explore P: 0.5690 Solved: 0\n",
      "Episode: 41 Total reward: 9.0 Explore P: 0.5610 Solved: 0\n",
      "Episode: 42 Total reward: 11.0 Explore P: 0.5531 Solved: 0\n",
      "Episode: 43 Total reward: 15.0 Explore P: 0.5454 Solved: 0\n",
      "Episode: 44 Total reward: 22.0 Explore P: 0.5378 Solved: 0\n",
      "Episode: 45 Total reward: 17.0 Explore P: 0.5302 Solved: 0\n",
      "Episode: 46 Total reward: 23.0 Explore P: 0.5228 Solved: 0\n",
      "Episode: 47 Total reward: 13.0 Explore P: 0.5155 Solved: 0\n",
      "Episode: 48 Total reward: 12.0 Explore P: 0.5083 Solved: 0\n",
      "Episode: 49 Total reward: 11.0 Explore P: 0.5012 Solved: 0\n",
      "Episode: 50 Total reward: 15.0 Explore P: 0.4941 Solved: 0\n",
      "Episode: 51 Total reward: 18.0 Explore P: 0.4872 Solved: 0\n",
      "Episode: 52 Total reward: 12.0 Explore P: 0.4804 Solved: 0\n",
      "Episode: 53 Total reward: 15.0 Explore P: 0.4737 Solved: 0\n",
      "Episode: 54 Total reward: 12.0 Explore P: 0.4670 Solved: 0\n",
      "Episode: 55 Total reward: 8.0 Explore P: 0.4605 Solved: 0\n",
      "Episode: 56 Total reward: 11.0 Explore P: 0.4541 Solved: 0\n",
      "Episode: 57 Total reward: 10.0 Explore P: 0.4477 Solved: 0\n",
      "Episode: 58 Total reward: 14.0 Explore P: 0.4414 Solved: 0\n",
      "Episode: 59 Total reward: 35.0 Explore P: 0.4352 Solved: 0\n",
      "Episode: 60 Total reward: 70.0 Explore P: 0.4292 Solved: 0\n",
      "Episode: 61 Total reward: 16.0 Explore P: 0.4231 Solved: 0\n",
      "Episode: 62 Total reward: 25.0 Explore P: 0.4172 Solved: 0\n",
      "Episode: 63 Total reward: 21.0 Explore P: 0.4114 Solved: 0\n",
      "Episode: 64 Total reward: 26.0 Explore P: 0.4056 Solved: 0\n",
      "Episode: 65 Total reward: 34.0 Explore P: 0.3999 Solved: 0\n",
      "Episode: 66 Total reward: 36.0 Explore P: 0.3943 Solved: 0\n",
      "Episode: 67 Total reward: 49.0 Explore P: 0.3888 Solved: 0\n",
      "Episode: 68 Total reward: 62.0 Explore P: 0.3834 Solved: 0\n",
      "Episode: 69 Total reward: 28.0 Explore P: 0.3780 Solved: 0\n",
      "Episode: 70 Total reward: 76.0 Explore P: 0.3727 Solved: 0\n",
      "Episode: 71 Total reward: 35.0 Explore P: 0.3675 Solved: 0\n",
      "Episode: 72 Total reward: 41.0 Explore P: 0.3624 Solved: 0\n",
      "Episode: 73 Total reward: 39.0 Explore P: 0.3573 Solved: 0\n",
      "Episode: 74 Total reward: 62.0 Explore P: 0.3523 Solved: 0\n",
      "Episode: 75 Total reward: 53.0 Explore P: 0.3474 Solved: 0\n",
      "Episode: 76 Total reward: 91.0 Explore P: 0.3425 Solved: 0\n",
      "Episode: 77 Total reward: 34.0 Explore P: 0.3377 Solved: 0\n",
      "Episode: 78 Total reward: 32.0 Explore P: 0.3330 Solved: 0\n",
      "Episode: 79 Total reward: 54.0 Explore P: 0.3283 Solved: 0\n",
      "Episode: 80 Total reward: 59.0 Explore P: 0.3237 Solved: 0\n",
      "Episode: 81 Total reward: 38.0 Explore P: 0.3192 Solved: 0\n",
      "Episode: 82 Total reward: 26.0 Explore P: 0.3147 Solved: 0\n",
      "Episode: 83 Total reward: 44.0 Explore P: 0.3103 Solved: 0\n",
      "Episode: 84 Total reward: 58.0 Explore P: 0.3060 Solved: 0\n",
      "Episode: 85 Total reward: 127.0 Explore P: 0.3017 Solved: 0\n",
      "Episode: 86 Total reward: 87.0 Explore P: 0.2975 Solved: 0\n",
      "Episode: 87 Total reward: 46.0 Explore P: 0.2933 Solved: 0\n",
      "Episode: 88 Total reward: 71.0 Explore P: 0.2892 Solved: 0\n",
      "Episode: 89 Total reward: 48.0 Explore P: 0.2851 Solved: 0\n",
      "Episode: 90 Total reward: 33.0 Explore P: 0.2811 Solved: 0\n",
      "Episode: 91 Total reward: 38.0 Explore P: 0.2772 Solved: 0\n",
      "Episode: 92 Total reward: 36.0 Explore P: 0.2733 Solved: 0\n",
      "Episode: 93 Total reward: 49.0 Explore P: 0.2695 Solved: 0\n",
      "Episode: 94 Total reward: 131.0 Explore P: 0.2657 Solved: 0\n",
      "Episode: 95 Total reward: 85.0 Explore P: 0.2620 Solved: 0\n",
      "Episode: 96 Total reward: 62.0 Explore P: 0.2583 Solved: 0\n",
      "Episode: 97 Total reward: 82.0 Explore P: 0.2547 Solved: 0\n",
      "Episode: 98 Total reward: 95.0 Explore P: 0.2512 Solved: 0\n",
      "Episode: 99 Total reward: 82.0 Explore P: 0.2476 Solved: 0\n",
      "Episode: 100 Total reward: 49.0 Explore P: 0.2442 Solved: 0\n",
      "Episode: 101 Total reward: 90.0 Explore P: 0.2408 Solved: 0\n",
      "Episode: 102 Total reward: 50.0 Explore P: 0.2374 Solved: 0\n",
      "Episode: 103 Total reward: 62.0 Explore P: 0.2341 Solved: 0\n",
      "Episode: 104 Total reward: 121.0 Explore P: 0.2308 Solved: 0\n",
      "Episode: 105 Total reward: 54.0 Explore P: 0.2275 Solved: 0\n",
      "Episode: 106 Total reward: 42.0 Explore P: 0.2244 Solved: 0\n",
      "Episode: 107 Total reward: 63.0 Explore P: 0.2212 Solved: 0\n",
      "Episode: 108 Total reward: 137.0 Explore P: 0.2181 Solved: 0\n",
      "Episode: 109 Total reward: 51.0 Explore P: 0.2151 Solved: 0\n",
      "Episode: 110 Total reward: 76.0 Explore P: 0.2121 Solved: 0\n",
      "Episode: 111 Total reward: 45.0 Explore P: 0.2091 Solved: 0\n",
      "Episode: 112 Total reward: 77.0 Explore P: 0.2062 Solved: 0\n",
      "Episode: 113 Total reward: 74.0 Explore P: 0.2033 Solved: 0\n",
      "Episode: 114 Total reward: 89.0 Explore P: 0.2004 Solved: 0\n",
      "Episode: 115 Total reward: 45.0 Explore P: 0.1976 Solved: 0\n",
      "Episode: 116 Total reward: 63.0 Explore P: 0.1949 Solved: 0\n",
      "Episode: 117 Total reward: 44.0 Explore P: 0.1921 Solved: 0\n",
      "Episode: 118 Total reward: 72.0 Explore P: 0.1894 Solved: 0\n",
      "Episode: 119 Total reward: 36.0 Explore P: 0.1868 Solved: 0\n",
      "Episode: 120 Total reward: 53.0 Explore P: 0.1842 Solved: 0\n",
      "Episode: 121 Total reward: 149.0 Explore P: 0.1816 Solved: 0\n",
      "Episode: 122 Total reward: 83.0 Explore P: 0.1791 Solved: 0\n",
      "Episode: 123 Total reward: 63.0 Explore P: 0.1765 Solved: 0\n",
      "Episode: 124 Total reward: 64.0 Explore P: 0.1741 Solved: 0\n",
      "Episode: 125 Total reward: 69.0 Explore P: 0.1716 Solved: 0\n",
      "Episode: 126 Total reward: 65.0 Explore P: 0.1692 Solved: 0\n",
      "Episode: 127 Total reward: 96.0 Explore P: 0.1669 Solved: 0\n",
      "Episode: 128 Total reward: 94.0 Explore P: 0.1645 Solved: 0\n",
      "Episode: 129 Total reward: 96.0 Explore P: 0.1622 Solved: 0\n",
      "Episode: 130 Total reward: 123.0 Explore P: 0.1600 Solved: 0\n",
      "Episode: 131 Total reward: 61.0 Explore P: 0.1577 Solved: 0\n",
      "Episode: 132 Total reward: 77.0 Explore P: 0.1555 Solved: 0\n",
      "Episode: 133 Total reward: 126.0 Explore P: 0.1533 Solved: 0\n",
      "Episode: 134 Total reward: 75.0 Explore P: 0.1512 Solved: 0\n",
      "Episode: 135 Total reward: 57.0 Explore P: 0.1491 Solved: 0\n",
      "Episode: 136 Total reward: 136.0 Explore P: 0.1470 Solved: 0\n",
      "Episode: 137 Total reward: 85.0 Explore P: 0.1449 Solved: 0\n",
      "Episode: 138 Total reward: 154.0 Explore P: 0.1429 Solved: 0\n",
      "Episode: 139 Total reward: 115.0 Explore P: 0.1409 Solved: 0\n"
     ]
    },
    {
     "name": "stdout",
     "output_type": "stream",
     "text": [
      "Episode: 140 Total reward: 183.0 Explore P: 0.1389 Solved: 0\n",
      "Episode: 141 Total reward: 118.0 Explore P: 0.1370 Solved: 0\n",
      "Episode: 142 Total reward: 200.0 Explore P: 0.1351 Solved: 1\n",
      "Episode: 143 Total reward: 200.0 Explore P: 0.1332 Solved: 2\n",
      "Episode: 144 Total reward: 125.0 Explore P: 0.1313 Solved: 0\n",
      "Episode: 145 Total reward: 200.0 Explore P: 0.1295 Solved: 1\n",
      "Episode: 146 Total reward: 200.0 Explore P: 0.1277 Solved: 2\n",
      "Episode: 147 Total reward: 200.0 Explore P: 0.1259 Solved: 3\n",
      "Episode: 148 Total reward: 200.0 Explore P: 0.1241 Solved: 4\n",
      "Episode: 149 Total reward: 200.0 Explore P: 0.1224 Solved: 5\n",
      "Episode: 150 Total reward: 200.0 Explore P: 0.1207 Solved: 6\n",
      "Episode: 151 Total reward: 200.0 Explore P: 0.1190 Solved: 7\n",
      "Episode: 152 Total reward: 200.0 Explore P: 0.1173 Solved: 8\n",
      "Episode: 153 Total reward: 200.0 Explore P: 0.1157 Solved: 9\n",
      "Episode: 154 Total reward: 200.0 Explore P: 0.1140 Solved: 10\n",
      "Episode: 155 Total reward: 200.0 Explore P: 0.1124 Solved: 11\n",
      "Episode: 156 Total reward: 200.0 Explore P: 0.1109 Solved: 12\n",
      "Episode: 157 Total reward: 200.0 Explore P: 0.1093 Solved: 13\n",
      "Episode: 158 Total reward: 200.0 Explore P: 0.1078 Solved: 14\n",
      "Episode: 159 Total reward: 200.0 Explore P: 0.1063 Solved: 15\n",
      "Episode: 160 Total reward: 200.0 Explore P: 0.1048 Solved: 16\n",
      "Episode: 161 Total reward: 200.0 Explore P: 0.1033 Solved: 17\n",
      "Episode: 162 Total reward: 200.0 Explore P: 0.1019 Solved: 18\n",
      "Episode: 163 Total reward: 200.0 Explore P: 0.1004 Solved: 19\n",
      "Episode: 164 Total reward: 200.0 Explore P: 0.0990 Solved: 20\n",
      "Episode: 165 Total reward: 200.0 Explore P: 0.0977 Solved: 21\n",
      "Episode: 166 Total reward: 200.0 Explore P: 0.0963 Solved: 22\n",
      "Episode: 167 Total reward: 200.0 Explore P: 0.0949 Solved: 23\n",
      "Episode: 168 Total reward: 200.0 Explore P: 0.0936 Solved: 24\n",
      "Episode: 169 Total reward: 200.0 Explore P: 0.0923 Solved: 25\n",
      "Episode: 170 Total reward: 200.0 Explore P: 0.0910 Solved: 26\n",
      "Episode: 171 Total reward: 200.0 Explore P: 0.0897 Solved: 27\n",
      "Episode: 172 Total reward: 200.0 Explore P: 0.0885 Solved: 28\n",
      "Episode: 173 Total reward: 200.0 Explore P: 0.0872 Solved: 29\n",
      "Episode: 174 Total reward: 200.0 Explore P: 0.0860 Solved: 30\n",
      "Episode: 175 Total reward: 200.0 Explore P: 0.0848 Solved: 31\n",
      "Episode: 176 Total reward: 200.0 Explore P: 0.0836 Solved: 32\n",
      "Episode: 177 Total reward: 200.0 Explore P: 0.0825 Solved: 33\n",
      "Episode: 178 Total reward: 200.0 Explore P: 0.0813 Solved: 34\n",
      "Episode: 179 Total reward: 200.0 Explore P: 0.0802 Solved: 35\n",
      "Episode: 180 Total reward: 200.0 Explore P: 0.0790 Solved: 36\n",
      "Episode: 181 Total reward: 200.0 Explore P: 0.0779 Solved: 37\n",
      "Episode: 182 Total reward: 200.0 Explore P: 0.0768 Solved: 38\n",
      "Episode: 183 Total reward: 200.0 Explore P: 0.0758 Solved: 39\n",
      "Episode: 184 Total reward: 200.0 Explore P: 0.0747 Solved: 40\n",
      "Episode: 185 Total reward: 200.0 Explore P: 0.0737 Solved: 41\n",
      "Episode: 186 Total reward: 200.0 Explore P: 0.0726 Solved: 42\n",
      "Episode: 187 Total reward: 200.0 Explore P: 0.0716 Solved: 43\n",
      "Episode: 188 Total reward: 200.0 Explore P: 0.0706 Solved: 44\n",
      "Episode: 189 Total reward: 200.0 Explore P: 0.0696 Solved: 45\n",
      "Episode: 190 Total reward: 200.0 Explore P: 0.0686 Solved: 46\n",
      "Episode: 191 Total reward: 200.0 Explore P: 0.0677 Solved: 47\n",
      "Episode: 192 Total reward: 200.0 Explore P: 0.0667 Solved: 48\n",
      "Episode: 193 Total reward: 200.0 Explore P: 0.0658 Solved: 49\n",
      "Episode: 194 Total reward: 200.0 Explore P: 0.0649 Solved: 50\n",
      "Episode: 195 Total reward: 200.0 Explore P: 0.0640 Solved: 51\n",
      "Episode: 196 Total reward: 200.0 Explore P: 0.0631 Solved: 52\n",
      "Episode: 197 Total reward: 200.0 Explore P: 0.0622 Solved: 53\n",
      "Episode: 198 Total reward: 200.0 Explore P: 0.0613 Solved: 54\n",
      "Episode: 199 Total reward: 200.0 Explore P: 0.0605 Solved: 55\n",
      "Episode: 200 Total reward: 200.0 Explore P: 0.0596 Solved: 56\n",
      "Episode: 201 Total reward: 200.0 Explore P: 0.0588 Solved: 57\n",
      "Episode: 202 Total reward: 200.0 Explore P: 0.0580 Solved: 58\n",
      "Episode: 203 Total reward: 200.0 Explore P: 0.0571 Solved: 59\n",
      "Episode: 204 Total reward: 200.0 Explore P: 0.0563 Solved: 60\n",
      "Episode: 205 Total reward: 200.0 Explore P: 0.0556 Solved: 61\n",
      "Episode: 206 Total reward: 200.0 Explore P: 0.0548 Solved: 62\n",
      "Episode: 207 Total reward: 200.0 Explore P: 0.0540 Solved: 63\n",
      "Episode: 208 Total reward: 200.0 Explore P: 0.0533 Solved: 64\n",
      "Episode: 209 Total reward: 200.0 Explore P: 0.0525 Solved: 65\n",
      "Episode: 210 Total reward: 200.0 Explore P: 0.0518 Solved: 66\n",
      "Episode: 211 Total reward: 200.0 Explore P: 0.0511 Solved: 67\n",
      "Episode: 212 Total reward: 200.0 Explore P: 0.0503 Solved: 68\n",
      "Episode: 213 Total reward: 200.0 Explore P: 0.0496 Solved: 69\n",
      "Episode: 214 Total reward: 200.0 Explore P: 0.0489 Solved: 70\n",
      "Episode: 215 Total reward: 200.0 Explore P: 0.0483 Solved: 71\n",
      "Episode: 216 Total reward: 200.0 Explore P: 0.0476 Solved: 72\n",
      "Episode: 217 Total reward: 200.0 Explore P: 0.0469 Solved: 73\n",
      "Episode: 218 Total reward: 200.0 Explore P: 0.0463 Solved: 74\n",
      "Episode: 219 Total reward: 200.0 Explore P: 0.0456 Solved: 75\n",
      "Episode: 220 Total reward: 200.0 Explore P: 0.0450 Solved: 76\n",
      "Episode: 221 Total reward: 200.0 Explore P: 0.0443 Solved: 77\n",
      "Episode: 222 Total reward: 200.0 Explore P: 0.0437 Solved: 78\n",
      "Episode: 223 Total reward: 200.0 Explore P: 0.0431 Solved: 79\n",
      "Episode: 224 Total reward: 200.0 Explore P: 0.0425 Solved: 80\n",
      "Episode: 225 Total reward: 200.0 Explore P: 0.0419 Solved: 81\n",
      "Episode: 226 Total reward: 200.0 Explore P: 0.0413 Solved: 82\n",
      "Episode: 227 Total reward: 200.0 Explore P: 0.0407 Solved: 83\n",
      "Episode: 228 Total reward: 200.0 Explore P: 0.0402 Solved: 84\n",
      "Episode: 229 Total reward: 200.0 Explore P: 0.0396 Solved: 85\n",
      "Episode: 230 Total reward: 200.0 Explore P: 0.0391 Solved: 86\n",
      "Episode: 231 Total reward: 200.0 Explore P: 0.0385 Solved: 87\n",
      "Episode: 232 Total reward: 200.0 Explore P: 0.0380 Solved: 88\n",
      "Episode: 233 Total reward: 200.0 Explore P: 0.0374 Solved: 89\n",
      "Episode: 234 Total reward: 200.0 Explore P: 0.0369 Solved: 90\n",
      "Episode: 235 Total reward: 200.0 Explore P: 0.0364 Solved: 91\n",
      "Episode: 236 Total reward: 200.0 Explore P: 0.0359 Solved: 92\n",
      "Episode: 237 Total reward: 200.0 Explore P: 0.0354 Solved: 93\n",
      "Episode: 238 Total reward: 200.0 Explore P: 0.0349 Solved: 94\n",
      "Episode: 239 Total reward: 200.0 Explore P: 0.0344 Solved: 95\n",
      "Episode: 240 Total reward: 200.0 Explore P: 0.0339 Solved: 96\n",
      "Episode: 241 Total reward: 200.0 Explore P: 0.0334 Solved: 97\n",
      "Episode: 242 Total reward: 200.0 Explore P: 0.0330 Solved: 98\n",
      "Episode: 243 Total reward: 200.0 Explore P: 0.0325 Solved: 99\n",
      "Episode: 244 Total reward: 200.0 Explore P: 0.0321 Solved: 100\n",
      "Total time: 552.0 secs\n"
     ]
    }
   ],
   "source": [
    "rewards_list = []\n",
    "epsilon = 1.0\n",
    "epsilon_decay = 0.986\n",
    "\n",
    "memory = deque(maxlen=memory_size)\n",
    "\n",
    "start_time = time.time()\n",
    "solved = False\n",
    "solved_count = 0\n",
    "episode = 0\n",
    "\n",
    "while not solved:\n",
    "    \n",
    "    state = env.reset()\n",
    "    state = np.reshape(state, [1, 4])\n",
    "    total_reward = 0\n",
    "    episode += 1\n",
    "    \n",
    "    done = False\n",
    "    \n",
    "    if (epsilon > 0.02):\n",
    "        epsilon *= epsilon_decay\n",
    "    \n",
    "    while not done:\n",
    "        \n",
    "        #env.render()\n",
    "        \n",
    "        # Choose action\n",
    "        if epsilon > np.random.rand():\n",
    "            action = env.action_space.sample()\n",
    "        else:\n",
    "            action = np.argmax(q_network.predict(state)[0])\n",
    "        \n",
    "        # Apply action to environment, get next state/reward, and save to memory object\n",
    "        next_state, reward, done, _ = env.step(action)\n",
    "        next_state = np.reshape(next_state, [1, 4])\n",
    "        total_reward += reward\n",
    "        \n",
    "        if done:\n",
    "            next_state = np.zeros(state.shape) # end of episode flag\n",
    "            \n",
    "            if (total_reward == 200):\n",
    "                solved_count += 1\n",
    "            else:\n",
    "                solved_count = 0\n",
    "                \n",
    "            if (solved_count == 100):\n",
    "                solved = True\n",
    "            \n",
    "        memory.append((state, action, reward, next_state))\n",
    "        state = next_state\n",
    "\n",
    "        # Train model\n",
    "        if (len(memory) >= batch_size):\n",
    "            \n",
    "            minibatch = random.sample(list(memory), batch_size)\n",
    "            \n",
    "            x_train = np.zeros((batch_size, 4))\n",
    "            y_train = np.zeros((batch_size, 2))\n",
    "            \n",
    "            for i, (mb_state, mb_action, mb_reward, mb_next_state) in enumerate(minibatch):\n",
    "                \n",
    "                x_train[i] = mb_state\n",
    "                y_train[i] = q_network.predict(np.reshape(mb_state, [1,4]))\n",
    "                \n",
    "                if (np.array_equal(mb_next_state, np.zeros(state.shape))): # end of episode\n",
    "                    q_target = mb_reward\n",
    "                    \n",
    "                else:\n",
    "                    q_target = mb_reward + (gamma * np.max(q_network.predict(mb_next_state)))\n",
    "\n",
    "                q_predict = y_train[i][mb_action]\n",
    "                y_train[i][mb_action] += alpha * (q_target - q_predict)\n",
    "                            \n",
    "            q_network.fit(x_train, y_train, epochs=1, verbose=0)\n",
    "\n",
    "            \n",
    "    if (episode % 1 == 0):\n",
    "        print('Episode: {}'.format(episode),\n",
    "              'Total reward: {}'.format(total_reward),\n",
    "              'Explore P: {:.4f}'.format(epsilon),\n",
    "              'Solved: {}'.format(solved_count))\n",
    "                \n",
    "    rewards_list.append((episode, total_reward))\n",
    "    \n",
    "env.render(close=True)\n",
    "\n",
    "print(\"Total time:\", round((time.time() - start_time), 0), \"secs\")"
   ]
  },
  {
   "cell_type": "markdown",
   "metadata": {},
   "source": [
    "## Plot training results"
   ]
  },
  {
   "cell_type": "code",
   "execution_count": 13,
   "metadata": {},
   "outputs": [
    {
     "data": {
      "text/plain": [
       "Text(0,0.5,'Total Reward')"
      ]
     },
     "execution_count": 13,
     "metadata": {},
     "output_type": "execute_result"
    },
    {
     "data": {
      "image/png": "[encoded data removed]",
      "text/plain": [
       "<matplotlib.figure.Figure at 0x7f1bd8c4f7f0>"
      ]
     },
     "metadata": {},
     "output_type": "display_data"
    }
   ],
   "source": [
    "eps, rews = np.array(rewards_list).T\n",
    "plt.plot(rews)\n",
    "plt.xlabel('Episodes')\n",
    "plt.ylabel('Total Reward')"
   ]
  },
  {
   "cell_type": "markdown",
   "metadata": {},
   "source": [
    "## Test model"
   ]
  },
  {
   "cell_type": "code",
   "execution_count": 14,
   "metadata": {},
   "outputs": [
    {
     "name": "stdout",
     "output_type": "stream",
     "text": [
      "1 200\n",
      "2 200\n",
      "3 200\n",
      "4 200\n",
      "5 200\n"
     ]
    }
   ],
   "source": [
    "for episode in range(5):\n",
    "    \n",
    "    counter = 0\n",
    "    done = False\n",
    "    state = env.reset()\n",
    "\n",
    "    while not done:\n",
    "        env.render()\n",
    "        state = np.reshape(state, [1, 4])\n",
    "        action = np.argmax(q_network.predict(state)[0])\n",
    "        state, reward, done, _ = env.step(action)\n",
    "        counter += 1\n",
    "\n",
    "    print(episode + 1, counter)\n",
    "                \n",
    "env.render(close=True)"
   ]
  },
  {
   "cell_type": "code",
   "execution_count": null,
   "metadata": {},
   "outputs": [],
   "source": []
  },
  {
   "cell_type": "code",
   "execution_count": null,
   "metadata": {},
   "outputs": [],
   "source": []
  }
 ],
 "metadata": {
  "kernelspec": {
   "display_name": "Python 3",
   "language": "python",
   "name": "python3"
  },
  "language_info": {
   "codemirror_mode": {
    "name": "ipython",
    "version": 3
   },
   "file_extension": ".py",
   "mimetype": "text/x-python",
   "name": "python",
   "nbconvert_exporter": "python",
   "pygments_lexer": "ipython3",
   "version": "3.6.3"
  }
 },
 "nbformat": 4,
 "nbformat_minor": 2
}
